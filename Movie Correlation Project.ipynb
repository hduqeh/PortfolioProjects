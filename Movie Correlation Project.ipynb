{
 "cells": [
  {
   "cell_type": "code",
   "execution_count": null,
   "id": "d398bc62",
   "metadata": {},
   "outputs": [],
   "source": [
    "# Import libraries\n",
    "\n",
    "import pandas as pd\n",
    "import numpy as np\n",
    "import seaborn as sns\n",
    "\n",
    "import matplotlib.pyplot as plt\n",
    "import matplotlib.mlab as mlab\n",
    "import matplotlib\n",
    "plt.style.use('ggplot')\n",
    "from matplotlib.pyplot import figure\n",
    "\n",
    "%matplotlib inline\n",
    "matplotlib.rcParams['figure.figsize'] = (12,8)  # Adjusts the configuration of the plots we will create\n",
    "\n",
    "\n",
    "# Read the data\n",
    "\n",
    "df = pd.read_csv(r'C:\\Users\\Hayaa\\OneDrive - University of Waterloo\\Desktop\\movies.csv')"
   ]
  },
  {
   "cell_type": "code",
   "execution_count": null,
   "id": "128ae1a4",
   "metadata": {},
   "outputs": [],
   "source": [
    "# Taking a glimpse at the data\n",
    "\n",
    "df.head()"
   ]
  },
  {
   "cell_type": "code",
   "execution_count": null,
   "id": "6673880d",
   "metadata": {},
   "outputs": [],
   "source": [
    "# First let's clean the data\n",
    "# We will loop through the data to see if there is any missing data\n",
    "\n",
    "for col in df.columns:\n",
    "    pct_missing = np.mean(df[col].isnull())\n",
    "    print('{} - {}%'.format(col, round(pct_missing*100)))"
   ]
  },
  {
   "cell_type": "code",
   "execution_count": null,
   "id": "4b8b697d",
   "metadata": {},
   "outputs": [],
   "source": [
    "# Dropping rows with missing values that cannot be replaced\n",
    "\n",
    "df = df.dropna()"
   ]
  },
  {
   "cell_type": "code",
   "execution_count": null,
   "id": "f5c570e7",
   "metadata": {},
   "outputs": [],
   "source": [
    "# Data Types for our columns\n",
    "\n",
    "print(df.dtypes)"
   ]
  },
  {
   "cell_type": "code",
   "execution_count": null,
   "id": "f8137c54",
   "metadata": {},
   "outputs": [],
   "source": [
    "# Changing the data type of columns with real numbers\n",
    "\n",
    "df['budget'] = df['budget'].astype('int64')\n",
    "\n",
    "df['gross'] = df['gross'].astype('int64')"
   ]
  },
  {
   "cell_type": "code",
   "execution_count": null,
   "id": "f7372f11",
   "metadata": {},
   "outputs": [],
   "source": [
    "df"
   ]
  },
  {
   "cell_type": "code",
   "execution_count": null,
   "id": "d01310e7",
   "metadata": {},
   "outputs": [],
   "source": [
    "# Creating a new column to have the year and release match\n",
    "\n",
    "df['yearcorrect'] = df['released'].str.extract(pat = '([0-9]{4})').astype(int)\n",
    "\n",
    "df"
   ]
  },
  {
   "cell_type": "code",
   "execution_count": null,
   "id": "71658cfd",
   "metadata": {},
   "outputs": [],
   "source": [
    "# Ordering the data by gross\n",
    "\n",
    "df.sort_values(by=['gross'], inplace=False, ascending=False)"
   ]
  },
  {
   "cell_type": "code",
   "execution_count": null,
   "id": "74ca961c",
   "metadata": {},
   "outputs": [],
   "source": [
    "# Just looking at the entire data set, run previous code in [16] to see\n",
    "\n",
    "pd.set_option('display.max_row', None)"
   ]
  },
  {
   "cell_type": "code",
   "execution_count": null,
   "id": "d2e42f01",
   "metadata": {},
   "outputs": [],
   "source": [
    "# Drop any duplicates\n",
    "\n",
    "df.drop_duplicates()"
   ]
  },
  {
   "cell_type": "code",
   "execution_count": null,
   "id": "ae356c36",
   "metadata": {},
   "outputs": [],
   "source": [
    "# Testing Hypothesis - the more money the company spends (budget) then the more money they will bring in (gross)\n",
    "# Budget will have a positive correlaction\n",
    "# Comparing Budget and gross revenue\n",
    "\n",
    "plt.scatter(x=df['budget'], y=df['gross'])\n",
    "\n",
    "plt.title('Budget vs Gross Earnings')\n",
    "\n",
    "plt.xlabel('Budget for Film')\n",
    "\n",
    "plt.ylabel('Gross Earning')\n",
    "\n",
    "plt.show()"
   ]
  },
  {
   "cell_type": "code",
   "execution_count": null,
   "id": "141d59ce",
   "metadata": {},
   "outputs": [],
   "source": [
    "# Plot budget vs gross using seaborn\n",
    "\n",
    "sns.regplot(x='budget', y='gross', data=df, scatter_kws={\"color\":\"red\"}, line_kws={\"color\":\"blue\"})"
   ]
  },
  {
   "cell_type": "code",
   "execution_count": null,
   "id": "0c08e222",
   "metadata": {},
   "outputs": [],
   "source": [
    "# Looking at the correlation between our variables (columns)\n",
    "# df.corr() only works on numerical not strings\n",
    "\n",
    "df.corr(method='pearson') # pearson, spearman, kendall all have different correlations"
   ]
  },
  {
   "cell_type": "code",
   "execution_count": null,
   "id": "7394340a",
   "metadata": {},
   "outputs": [],
   "source": [
    "# High correlation between budget and gross in which the pearson correlation confirms our hypothesis\n",
    "\n",
    "correlation_matrix = df.corr(method='pearson')\n",
    "\n",
    "sns.heatmap(correlation_matrix, annot=True)\n",
    "\n",
    "plt.title('Correlation Matric for Numeric Features')\n",
    "\n",
    "plt.xlabel('Movie Features')\n",
    "\n",
    "plt.ylabel('Movie Features')\n",
    "\n",
    "plt.show()"
   ]
  },
  {
   "cell_type": "code",
   "execution_count": null,
   "id": "7bc998ff",
   "metadata": {},
   "outputs": [],
   "source": [
    "# I want to look at the correlation with company, converting a string to integer\n",
    "# Creating a unique identifier for each movie company\n",
    "\n",
    "df_numerized = df \n",
    "\n",
    "for col_name in df_numerized.columns:   # Creating a for loop for all fields so we can correlate \n",
    "    if(df_numerized[col_name].dtype == 'object'):\n",
    "        df_numerized[col_name] = df_numerized[col_name].astype('category')  # This changes the column type\n",
    "        df_numerized[col_name] = df_numerized[col_name].cat.codes\n",
    "\n",
    "df_numerized.head()"
   ]
  },
  {
   "cell_type": "code",
   "execution_count": null,
   "id": "74e270c3",
   "metadata": {},
   "outputs": [],
   "source": [
    "df"
   ]
  },
  {
   "cell_type": "code",
   "execution_count": null,
   "id": "7933970f",
   "metadata": {},
   "outputs": [],
   "source": [
    "correlation_matrix = df_numerized.corr(method='pearson')\n",
    "\n",
    "sns.heatmap(correlation_matrix, annot=True)\n",
    "\n",
    "plt.title('Correlation Matric for Numeric Features')\n",
    "\n",
    "plt.xlabel('Movie Features')\n",
    "\n",
    "plt.ylabel('Movie Features')\n",
    "\n",
    "plt.show()"
   ]
  },
  {
   "cell_type": "code",
   "execution_count": null,
   "id": "9b31c0a6",
   "metadata": {},
   "outputs": [],
   "source": [
    "df_numerized.corr() # Let's organize this to ones who have the highest correlation"
   ]
  },
  {
   "cell_type": "code",
   "execution_count": null,
   "id": "925939aa",
   "metadata": {},
   "outputs": [],
   "source": [
    "# We will unstack the dataset to organize the from highest to lowest correlation\n",
    "\n",
    "correlation_mat = df_numerized.corr()\n",
    "\n",
    "corr_pairs = correlation_mat.unstack()\n",
    "\n",
    "corr_pairs"
   ]
  },
  {
   "cell_type": "code",
   "execution_count": null,
   "id": "ec843fc0",
   "metadata": {},
   "outputs": [],
   "source": [
    "sorted_pairs = corr_pairs.sort_values()\n",
    "\n",
    "sorted_pairs"
   ]
  },
  {
   "cell_type": "code",
   "execution_count": null,
   "id": "7c437075",
   "metadata": {},
   "outputs": [],
   "source": [
    "high_corr = sorted_pairs[(sorted_pairs) > 0.5]\n",
    "\n",
    "high_corr"
   ]
  },
  {
   "cell_type": "code",
   "execution_count": null,
   "id": "f1b2c087",
   "metadata": {},
   "outputs": [],
   "source": [
    "# Results show that votes and budget have the highest correlation to gross earnings\n",
    "\n",
    "# Company has low correlation to gross earnings"
   ]
  }
 ],
 "metadata": {
  "kernelspec": {
   "display_name": "Python 3 (ipykernel)",
   "language": "python",
   "name": "python3"
  },
  "language_info": {
   "codemirror_mode": {
    "name": "ipython",
    "version": 3
   },
   "file_extension": ".py",
   "mimetype": "text/x-python",
   "name": "python",
   "nbconvert_exporter": "python",
   "pygments_lexer": "ipython3",
   "version": "3.9.12"
  }
 },
 "nbformat": 4,
 "nbformat_minor": 5
}
